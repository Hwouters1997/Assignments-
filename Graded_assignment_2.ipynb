{
 "cells": [
  {
   "cell_type": "markdown",
   "metadata": {},
   "source": [
    "# Graded Assignment 2\n",
    "Mark Klik & Misja Mikkers\n",
    "\n",
    "# Packages\n",
    "\n",
    "# Assignment 1\n",
    "\n",
    "First load the `tidyverse` package:"
   ]
  },
  {
   "cell_type": "code",
   "execution_count": 4,
   "metadata": {},
   "outputs": [],
   "source": [
    "library(tidyverse)"
   ]
  },
  {
   "cell_type": "markdown",
   "metadata": {},
   "source": [
    "##  Assignment 1a\n",
    "\n",
    "Read the data file _graded_assignment_2.csv_ from disk:"
   ]
  },
  {
   "cell_type": "code",
   "execution_count": 5,
   "metadata": {},
   "outputs": [
    {
     "data": {
      "text/html": [
       "<table>\n",
       "<thead><tr><th scope=col>ID</th><th scope=col>Group</th><th scope=col>FKG</th><th scope=col>DKG</th><th scope=col>Gender</th><th scope=col>Elderly</th><th scope=col>Age</th></tr></thead>\n",
       "<tbody>\n",
       "\t<tr><td>1      </td><td> 2     </td><td>0      </td><td>1      </td><td>male   </td><td>65-    </td><td>5 - 9  </td></tr>\n",
       "\t<tr><td>2      </td><td> 2     </td><td>0      </td><td>1      </td><td>male   </td><td>65-    </td><td>5 - 9  </td></tr>\n",
       "\t<tr><td>3      </td><td>27     </td><td>1      </td><td>0      </td><td>female </td><td>65-    </td><td>30 - 34</td></tr>\n",
       "\t<tr><td>4      </td><td>33     </td><td>0      </td><td>0      </td><td>female </td><td>65-    </td><td>60 - 64</td></tr>\n",
       "\t<tr><td>5      </td><td>20     </td><td>0      </td><td>0      </td><td>male   </td><td>65+    </td><td>95 - 99</td></tr>\n",
       "\t<tr><td>6      </td><td> 6     </td><td>0      </td><td>1      </td><td>male   </td><td>65-    </td><td>25 - 29</td></tr>\n",
       "</tbody>\n",
       "</table>\n"
      ],
      "text/latex": [
       "\\begin{tabular}{r|lllllll}\n",
       " ID & Group & FKG & DKG & Gender & Elderly & Age\\\\\n",
       "\\hline\n",
       "\t 1       &  2      & 0       & 1       & male    & 65-     & 5 - 9  \\\\\n",
       "\t 2       &  2      & 0       & 1       & male    & 65-     & 5 - 9  \\\\\n",
       "\t 3       & 27      & 1       & 0       & female  & 65-     & 30 - 34\\\\\n",
       "\t 4       & 33      & 0       & 0       & female  & 65-     & 60 - 64\\\\\n",
       "\t 5       & 20      & 0       & 0       & male    & 65+     & 95 - 99\\\\\n",
       "\t 6       &  6      & 0       & 1       & male    & 65-     & 25 - 29\\\\\n",
       "\\end{tabular}\n"
      ],
      "text/markdown": [
       "\n",
       "ID | Group | FKG | DKG | Gender | Elderly | Age | \n",
       "|---|---|---|---|---|---|\n",
       "| 1       |  2      | 0       | 1       | male    | 65-     | 5 - 9   | \n",
       "| 2       |  2      | 0       | 1       | male    | 65-     | 5 - 9   | \n",
       "| 3       | 27      | 1       | 0       | female  | 65-     | 30 - 34 | \n",
       "| 4       | 33      | 0       | 0       | female  | 65-     | 60 - 64 | \n",
       "| 5       | 20      | 0       | 0       | male    | 65+     | 95 - 99 | \n",
       "| 6       |  6      | 0       | 1       | male    | 65-     | 25 - 29 | \n",
       "\n",
       "\n"
      ],
      "text/plain": [
       "  ID Group FKG DKG Gender Elderly Age    \n",
       "1 1   2    0   1   male   65-     5 - 9  \n",
       "2 2   2    0   1   male   65-     5 - 9  \n",
       "3 3  27    1   0   female 65-     30 - 34\n",
       "4 4  33    0   0   female 65-     60 - 64\n",
       "5 5  20    0   0   male   65+     95 - 99\n",
       "6 6   6    0   1   male   65-     25 - 29"
      ]
     },
     "metadata": {},
     "output_type": "display_data"
    }
   ],
   "source": [
    "data1 <-  read.csv2(\"../Sourcedata/graded_assignment_2.csv\", sep = ';')\n",
    "head(data1)"
   ]
  },
  {
   "cell_type": "markdown",
   "metadata": {},
   "source": [
    "## Assignment 1b\n",
    "\n",
    "Add column \"Health_status\" with containing values _1_ (Healthy) and _0_ (Unhealthy).\n",
    "A person is Healthy, when `FKG` equals 0 and `DKG` equals 0.\n",
    "\n",
    "So\n",
    "\n",
    "| FKG | DKG | Health_status   |\n",
    "|-----|-----|--------------   |\n",
    "| 0   | 0   | 1               |\n",
    "| 1   | 0   | 0               |\n",
    "| 0   | 1   | 0               |\n",
    "| 1   | 1   | 0               |\n",
    "\n",
    "Hint: you can use `ifelse()`:"
   ]
  },
  {
   "cell_type": "code",
   "execution_count": 6,
   "metadata": {},
   "outputs": [
    {
     "data": {
      "text/html": [
       "<table>\n",
       "<thead><tr><th scope=col>ID</th><th scope=col>Group</th><th scope=col>FKG</th><th scope=col>DKG</th><th scope=col>Gender</th><th scope=col>Elderly</th><th scope=col>Age</th><th scope=col>Health_status</th></tr></thead>\n",
       "<tbody>\n",
       "\t<tr><td>1        </td><td> 2       </td><td>0        </td><td>1        </td><td>male     </td><td>65-      </td><td>5 - 9    </td><td>Unhealthy</td></tr>\n",
       "\t<tr><td>2        </td><td> 2       </td><td>0        </td><td>1        </td><td>male     </td><td>65-      </td><td>5 - 9    </td><td>Unhealthy</td></tr>\n",
       "\t<tr><td>3        </td><td>27       </td><td>1        </td><td>0        </td><td>female   </td><td>65-      </td><td>30 - 34  </td><td>Unhealthy</td></tr>\n",
       "\t<tr><td>4        </td><td>33       </td><td>0        </td><td>0        </td><td>female   </td><td>65-      </td><td>60 - 64  </td><td>Unhealthy</td></tr>\n",
       "\t<tr><td>5        </td><td>20       </td><td>0        </td><td>0        </td><td>male     </td><td>65+      </td><td>95 - 99  </td><td>Unhealthy</td></tr>\n",
       "\t<tr><td>6        </td><td> 6       </td><td>0        </td><td>1        </td><td>male     </td><td>65-      </td><td>25 - 29  </td><td>Unhealthy</td></tr>\n",
       "</tbody>\n",
       "</table>\n"
      ],
      "text/latex": [
       "\\begin{tabular}{r|llllllll}\n",
       " ID & Group & FKG & DKG & Gender & Elderly & Age & Health\\_status\\\\\n",
       "\\hline\n",
       "\t 1         &  2        & 0         & 1         & male      & 65-       & 5 - 9     & Unhealthy\\\\\n",
       "\t 2         &  2        & 0         & 1         & male      & 65-       & 5 - 9     & Unhealthy\\\\\n",
       "\t 3         & 27        & 1         & 0         & female    & 65-       & 30 - 34   & Unhealthy\\\\\n",
       "\t 4         & 33        & 0         & 0         & female    & 65-       & 60 - 64   & Unhealthy\\\\\n",
       "\t 5         & 20        & 0         & 0         & male      & 65+       & 95 - 99   & Unhealthy\\\\\n",
       "\t 6         &  6        & 0         & 1         & male      & 65-       & 25 - 29   & Unhealthy\\\\\n",
       "\\end{tabular}\n"
      ],
      "text/markdown": [
       "\n",
       "ID | Group | FKG | DKG | Gender | Elderly | Age | Health_status | \n",
       "|---|---|---|---|---|---|\n",
       "| 1         |  2        | 0         | 1         | male      | 65-       | 5 - 9     | Unhealthy | \n",
       "| 2         |  2        | 0         | 1         | male      | 65-       | 5 - 9     | Unhealthy | \n",
       "| 3         | 27        | 1         | 0         | female    | 65-       | 30 - 34   | Unhealthy | \n",
       "| 4         | 33        | 0         | 0         | female    | 65-       | 60 - 64   | Unhealthy | \n",
       "| 5         | 20        | 0         | 0         | male      | 65+       | 95 - 99   | Unhealthy | \n",
       "| 6         |  6        | 0         | 1         | male      | 65-       | 25 - 29   | Unhealthy | \n",
       "\n",
       "\n"
      ],
      "text/plain": [
       "  ID Group FKG DKG Gender Elderly Age     Health_status\n",
       "1 1   2    0   1   male   65-     5 - 9   Unhealthy    \n",
       "2 2   2    0   1   male   65-     5 - 9   Unhealthy    \n",
       "3 3  27    1   0   female 65-     30 - 34 Unhealthy    \n",
       "4 4  33    0   0   female 65-     60 - 64 Unhealthy    \n",
       "5 5  20    0   0   male   65+     95 - 99 Unhealthy    \n",
       "6 6   6    0   1   male   65-     25 - 29 Unhealthy    "
      ]
     },
     "metadata": {},
     "output_type": "display_data"
    }
   ],
   "source": [
    "data2 <- data1 %>%\n",
    "mutate(Health_status = ifelse(Group == 1, \"Healthy\", \"Unhealthy\"))\n",
    "head(data2)\n",
    "  "
   ]
  },
  {
   "cell_type": "markdown",
   "metadata": {},
   "source": [
    "In the next datacamp course you will learn more about the package `dplyr`. For now we just give you some code. You can run the following script.\n",
    "\n",
    "First, we want to make \"Health_status\" a factor instead of a character"
   ]
  },
  {
   "cell_type": "code",
   "execution_count": 7,
   "metadata": {},
   "outputs": [
    {
     "name": "stderr",
     "output_type": "stream",
     "text": [
      "Warning message in eval(substitute(expr), envir, enclos):\n",
      "\"NAs introduced by coercion\""
     ]
    },
    {
     "name": "stdout",
     "output_type": "stream",
     "text": [
      "'data.frame':\t10000 obs. of  8 variables:\n",
      " $ ID           : int  1 2 3 4 5 6 7 8 9 10 ...\n",
      " $ Group        : int  2 2 27 33 20 6 36 26 6 26 ...\n",
      " $ FKG          : int  0 0 1 0 0 0 1 1 1 0 ...\n",
      " $ DKG          : int  1 1 0 0 0 1 0 1 0 0 ...\n",
      " $ Gender       : Factor w/ 2 levels \"female\",\"male\": 2 2 1 1 2 2 1 1 2 1 ...\n",
      " $ Elderly      : Factor w/ 2 levels \"65+\",\"65-\": 2 2 2 2 1 2 1 2 2 2 ...\n",
      " $ Age          : Factor w/ 20 levels \"0 - 4\",\"10 - 14\",..: 10 10 6 13 20 5 16 5 5 5 ...\n",
      " $ Health_status: num  NA NA NA NA NA NA NA NA NA NA ...\n"
     ]
    }
   ],
   "source": [
    "data2 <- data2 %>%\n",
    "  mutate(Health_status = as.numeric(Health_status))\n",
    "str(data2)"
   ]
  },
  {
   "cell_type": "markdown",
   "metadata": {},
   "source": [
    "Then, we want to count the number of healthy and unhealthy males and females"
   ]
  },
  {
   "cell_type": "code",
   "execution_count": 8,
   "metadata": {},
   "outputs": [
    {
     "data": {
      "text/html": [
       "<table>\n",
       "<thead><tr><th scope=col>Gender</th><th scope=col>Health_status</th><th scope=col>Count_observations</th></tr></thead>\n",
       "<tbody>\n",
       "\t<tr><td>female</td><td>NA    </td><td>4946  </td></tr>\n",
       "\t<tr><td>male  </td><td>NA    </td><td>5054  </td></tr>\n",
       "</tbody>\n",
       "</table>\n"
      ],
      "text/latex": [
       "\\begin{tabular}{r|lll}\n",
       " Gender & Health\\_status & Count\\_observations\\\\\n",
       "\\hline\n",
       "\t female & NA     & 4946  \\\\\n",
       "\t male   & NA     & 5054  \\\\\n",
       "\\end{tabular}\n"
      ],
      "text/markdown": [
       "\n",
       "Gender | Health_status | Count_observations | \n",
       "|---|---|\n",
       "| female | NA     | 4946   | \n",
       "| male   | NA     | 5054   | \n",
       "\n",
       "\n"
      ],
      "text/plain": [
       "  Gender Health_status Count_observations\n",
       "1 female NA            4946              \n",
       "2 male   NA            5054              "
      ]
     },
     "metadata": {},
     "output_type": "display_data"
    }
   ],
   "source": [
    "data3 <- data2 %>%\n",
    "  group_by(Gender, Health_status) %>%\n",
    " summarise(Count_observations = n()) %>%\n",
    "  mutate(Health_status=as.factor(Health_status))\n",
    "\n",
    "data3"
   ]
  },
  {
   "cell_type": "markdown",
   "metadata": {},
   "source": [
    "## Assignment 2\n",
    "\n",
    "Recreate with the dataframe \"data3\" the following barchart ![](../Sourcedata/barchart.png)\n",
    "\n",
    "* Hint: see for changing the [legends and colors](http://www.cookbook-r.com/Graphs/Legends_(ggplot2)/)\n",
    "* Hint: the \"green\" color is in fact the color \"greenyellow\"\n",
    "* Hint: see for the [themes](http://ggplot2.tidyverse.org/reference/ggtheme.html): \n",
    "\n"
   ]
  },
  {
   "cell_type": "code",
   "execution_count": 9,
   "metadata": {},
   "outputs": [
    {
     "name": "stderr",
     "output_type": "stream",
     "text": [
      "ERROR while rich displaying an object: Error in seq.default(h[1], h[2], length.out = n): 'to' cannot be NA, NaN or infinite\n",
      "\n",
      "Traceback:\n",
      "1. FUN(X[[i]], ...)\n",
      "2. tryCatch(withCallingHandlers({\n",
      " .     rpr <- mime2repr[[mime]](obj)\n",
      " .     if (is.null(rpr)) \n",
      " .         return(NULL)\n",
      " .     prepare_content(is.raw(rpr), rpr)\n",
      " . }, error = error_handler), error = outer_handler)\n",
      "3. tryCatchList(expr, classes, parentenv, handlers)\n",
      "4. tryCatchOne(expr, names, parentenv, handlers[[1L]])\n",
      "5. doTryCatch(return(expr), name, parentenv, handler)\n",
      "6. withCallingHandlers({\n",
      " .     rpr <- mime2repr[[mime]](obj)\n",
      " .     if (is.null(rpr)) \n",
      " .         return(NULL)\n",
      " .     prepare_content(is.raw(rpr), rpr)\n",
      " . }, error = error_handler)\n",
      "7. mime2repr[[mime]](obj)\n",
      "8. repr_text.default(obj)\n",
      "9. paste(capture.output(print(obj)), collapse = \"\\n\")\n",
      "10. capture.output(print(obj))\n",
      "11. evalVis(expr)\n",
      "12. withVisible(eval(expr, pf))\n",
      "13. eval(expr, pf)\n",
      "14. eval(expr, envir, enclos)\n",
      "15. print(obj)\n",
      "16. print.ggplot(obj)\n",
      "17. ggplot_build(x)\n",
      "18. lapply(data, scales_map_df, scales = npscales)\n",
      "19. FUN(X[[i]], ...)\n",
      "20. unlist(lapply(scales$scales, function(scale) scale$map_df(df = df)), \n",
      "  .     recursive = FALSE)\n",
      "21. lapply(scales$scales, function(scale) scale$map_df(df = df))\n",
      "22. FUN(X[[i]], ...)\n",
      "23. scale$map_df(df = df)\n",
      "24. f(..., self = self)\n",
      "25. lapply(aesthetics, function(j) self$map(df[[j]]))\n",
      "26. FUN(X[[i]], ...)\n",
      "27. self$map(df[[j]])\n",
      "28. f(..., self = self)\n",
      "29. self$palette(n)\n",
      "30. f(...)\n",
      "31. rotate(seq(h[1], h[2], length.out = n))\n",
      "32. seq(h[1], h[2], length.out = n)\n",
      "33. seq.default(h[1], h[2], length.out = n)\n",
      "34. stop(\"'to' cannot be NA, NaN or infinite\")\n"
     ]
    },
    {
     "data": {},
     "metadata": {},
     "output_type": "display_data"
    },
    {
     "ename": "ERROR",
     "evalue": "Error: Don't know how to add RHS to a theme object\n",
     "output_type": "error",
     "traceback": [
      "Error: Don't know how to add RHS to a theme object\nTraceback:\n",
      "1. `+.gg`(theme_classic(base_size = 13), scale_fill_manual(values = c(\"red\", \n .     \"greenyellow\"), name = \"Health Status\", labels = c(\"Healthy\", \n .     \"Unhealthy\")))",
      "2. add_theme(e1, e2, e2name)",
      "3. stop(\"Don't know how to add RHS to a theme object\", call. = FALSE)"
     ]
    },
    {
     "data": {
      "image/png": "[encoded data removed]",
      "text/plain": [
       "plot without title"
      ]
     },
     "metadata": {},
     "output_type": "display_data"
    }
   ],
   "source": [
    "ggplot(data=data3, aes(x=Gender, y = Count_observations, fill = Health_status)) + \n",
    "        geom_col(position = \"dodge\") + \n",
    "        labs (x = \"Gender\", y = \"Number\")\n",
    "        theme_classic(base_size = 13) + \n",
    "        scale_fill_manual(values = c(\"red\", \"greenyellow\"), name = \"Health Status\", labels = c(\"Healthy\", \"Unhealthy\"))"
   ]
  },
  {
   "cell_type": "markdown",
   "metadata": {},
   "source": [
    "End notebook"
   ]
  }
 ],
 "metadata": {
  "anaconda-cloud": {},
  "kernelspec": {
   "display_name": "R",
   "language": "R",
   "name": "ir"
  },
  "language_info": {
   "codemirror_mode": "r",
   "file_extension": ".r",
   "mimetype": "text/x-r-source",
   "name": "R",
   "pygments_lexer": "r",
   "version": "3.3.3"
  }
 },
 "nbformat": 4,
 "nbformat_minor": 1
}
