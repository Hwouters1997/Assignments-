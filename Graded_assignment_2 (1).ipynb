{
 "cells": [
  {
   "cell_type": "markdown",
   "metadata": {},
   "source": [
    "# Graded Assignment 2\n",
    "Mark Klik & Misja Mikkers\n",
    "\n",
    "# Packages\n",
    "\n",
    "# Assignment 1\n",
    "\n",
    "First load the `tidyverse` package:"
   ]
  },
  {
   "cell_type": "code",
   "execution_count": 4,
   "metadata": {},
   "outputs": [],
   "source": [
    "library(tidyverse)"
   ]
  },
  {
   "cell_type": "markdown",
   "metadata": {},
   "source": [
    "##  Assignment 1a\n",
    "\n",
    "Read the data file _graded_assignment_2.csv_ from disk:"
   ]
  },
  {
   "cell_type": "code",
   "execution_count": 5,
   "metadata": {},
   "outputs": [
    {
     "data": {
      "text/html": [
       "<table>\n",
       "<thead><tr><th scope=col>ID</th><th scope=col>Group</th><th scope=col>FKG</th><th scope=col>DKG</th><th scope=col>Gender</th><th scope=col>Elderly</th><th scope=col>Age</th></tr></thead>\n",
       "<tbody>\n",
       "\t<tr><td>1      </td><td> 2     </td><td>0      </td><td>1      </td><td>male   </td><td>65-    </td><td>5 - 9  </td></tr>\n",
       "\t<tr><td>2      </td><td> 2     </td><td>0      </td><td>1      </td><td>male   </td><td>65-    </td><td>5 - 9  </td></tr>\n",
       "\t<tr><td>3      </td><td>27     </td><td>1      </td><td>0      </td><td>female </td><td>65-    </td><td>30 - 34</td></tr>\n",
       "\t<tr><td>4      </td><td>33     </td><td>0      </td><td>0      </td><td>female </td><td>65-    </td><td>60 - 64</td></tr>\n",
       "\t<tr><td>5      </td><td>20     </td><td>0      </td><td>0      </td><td>male   </td><td>65+    </td><td>95 - 99</td></tr>\n",
       "\t<tr><td>6      </td><td> 6     </td><td>0      </td><td>1      </td><td>male   </td><td>65-    </td><td>25 - 29</td></tr>\n",
       "</tbody>\n",
       "</table>\n"
      ],
      "text/latex": [
       "\\begin{tabular}{r|lllllll}\n",
       " ID & Group & FKG & DKG & Gender & Elderly & Age\\\\\n",
       "\\hline\n",
       "\t 1       &  2      & 0       & 1       & male    & 65-     & 5 - 9  \\\\\n",
       "\t 2       &  2      & 0       & 1       & male    & 65-     & 5 - 9  \\\\\n",
       "\t 3       & 27      & 1       & 0       & female  & 65-     & 30 - 34\\\\\n",
       "\t 4       & 33      & 0       & 0       & female  & 65-     & 60 - 64\\\\\n",
       "\t 5       & 20      & 0       & 0       & male    & 65+     & 95 - 99\\\\\n",
       "\t 6       &  6      & 0       & 1       & male    & 65-     & 25 - 29\\\\\n",
       "\\end{tabular}\n"
      ],
      "text/markdown": [
       "\n",
       "ID | Group | FKG | DKG | Gender | Elderly | Age | \n",
       "|---|---|---|---|---|---|\n",
       "| 1       |  2      | 0       | 1       | male    | 65-     | 5 - 9   | \n",
       "| 2       |  2      | 0       | 1       | male    | 65-     | 5 - 9   | \n",
       "| 3       | 27      | 1       | 0       | female  | 65-     | 30 - 34 | \n",
       "| 4       | 33      | 0       | 0       | female  | 65-     | 60 - 64 | \n",
       "| 5       | 20      | 0       | 0       | male    | 65+     | 95 - 99 | \n",
       "| 6       |  6      | 0       | 1       | male    | 65-     | 25 - 29 | \n",
       "\n",
       "\n"
      ],
      "text/plain": [
       "  ID Group FKG DKG Gender Elderly Age    \n",
       "1 1   2    0   1   male   65-     5 - 9  \n",
       "2 2   2    0   1   male   65-     5 - 9  \n",
       "3 3  27    1   0   female 65-     30 - 34\n",
       "4 4  33    0   0   female 65-     60 - 64\n",
       "5 5  20    0   0   male   65+     95 - 99\n",
       "6 6   6    0   1   male   65-     25 - 29"
      ]
     },
     "metadata": {},
     "output_type": "display_data"
    }
   ],
   "source": [
    "data1 <-  read.csv2(\"../Sourcedata/graded_assignment_2.csv\", sep = ';')\n",
    "head(data1)"
   ]
  },
  {
   "cell_type": "markdown",
   "metadata": {},
   "source": [
    "## Assignment 1b\n",
    "\n",
    "Add column \"Health_status\" with containing values _1_ (Healthy) and _0_ (Unhealthy).\n",
    "A person is Healthy, when `FKG` equals 0 and `DKG` equals 0.\n",
    "\n",
    "So\n",
    "\n",
    "| FKG | DKG | Health_status   |\n",
    "|-----|-----|--------------   |\n",
    "| 0   | 0   | 1               |\n",
    "| 1   | 0   | 0               |\n",
    "| 0   | 1   | 0               |\n",
    "| 1   | 1   | 0               |\n",
    "\n",
    "Hint: you can use `ifelse()`:"
   ]
  },
  {
   "cell_type": "code",
   "execution_count": 10,
   "metadata": {},
   "outputs": [
    {
     "data": {
      "text/html": [
       "<table>\n",
       "<thead><tr><th scope=col>ID</th><th scope=col>Group</th><th scope=col>FKG</th><th scope=col>DKG</th><th scope=col>Gender</th><th scope=col>Elderly</th><th scope=col>Age</th><th scope=col>Health_status</th></tr></thead>\n",
       "<tbody>\n",
       "\t<tr><td>1      </td><td> 2     </td><td>0      </td><td>1      </td><td>male   </td><td>65-    </td><td>5 - 9  </td><td>0      </td></tr>\n",
       "\t<tr><td>2      </td><td> 2     </td><td>0      </td><td>1      </td><td>male   </td><td>65-    </td><td>5 - 9  </td><td>0      </td></tr>\n",
       "\t<tr><td>3      </td><td>27     </td><td>1      </td><td>0      </td><td>female </td><td>65-    </td><td>30 - 34</td><td>0      </td></tr>\n",
       "\t<tr><td>4      </td><td>33     </td><td>0      </td><td>0      </td><td>female </td><td>65-    </td><td>60 - 64</td><td>1      </td></tr>\n",
       "\t<tr><td>5      </td><td>20     </td><td>0      </td><td>0      </td><td>male   </td><td>65+    </td><td>95 - 99</td><td>1      </td></tr>\n",
       "\t<tr><td>6      </td><td> 6     </td><td>0      </td><td>1      </td><td>male   </td><td>65-    </td><td>25 - 29</td><td>0      </td></tr>\n",
       "</tbody>\n",
       "</table>\n"
      ],
      "text/latex": [
       "\\begin{tabular}{r|llllllll}\n",
       " ID & Group & FKG & DKG & Gender & Elderly & Age & Health\\_status\\\\\n",
       "\\hline\n",
       "\t 1       &  2      & 0       & 1       & male    & 65-     & 5 - 9   & 0      \\\\\n",
       "\t 2       &  2      & 0       & 1       & male    & 65-     & 5 - 9   & 0      \\\\\n",
       "\t 3       & 27      & 1       & 0       & female  & 65-     & 30 - 34 & 0      \\\\\n",
       "\t 4       & 33      & 0       & 0       & female  & 65-     & 60 - 64 & 1      \\\\\n",
       "\t 5       & 20      & 0       & 0       & male    & 65+     & 95 - 99 & 1      \\\\\n",
       "\t 6       &  6      & 0       & 1       & male    & 65-     & 25 - 29 & 0      \\\\\n",
       "\\end{tabular}\n"
      ],
      "text/markdown": [
       "\n",
       "ID | Group | FKG | DKG | Gender | Elderly | Age | Health_status | \n",
       "|---|---|---|---|---|---|\n",
       "| 1       |  2      | 0       | 1       | male    | 65-     | 5 - 9   | 0       | \n",
       "| 2       |  2      | 0       | 1       | male    | 65-     | 5 - 9   | 0       | \n",
       "| 3       | 27      | 1       | 0       | female  | 65-     | 30 - 34 | 0       | \n",
       "| 4       | 33      | 0       | 0       | female  | 65-     | 60 - 64 | 1       | \n",
       "| 5       | 20      | 0       | 0       | male    | 65+     | 95 - 99 | 1       | \n",
       "| 6       |  6      | 0       | 1       | male    | 65-     | 25 - 29 | 0       | \n",
       "\n",
       "\n"
      ],
      "text/plain": [
       "  ID Group FKG DKG Gender Elderly Age     Health_status\n",
       "1 1   2    0   1   male   65-     5 - 9   0            \n",
       "2 2   2    0   1   male   65-     5 - 9   0            \n",
       "3 3  27    1   0   female 65-     30 - 34 0            \n",
       "4 4  33    0   0   female 65-     60 - 64 1            \n",
       "5 5  20    0   0   male   65+     95 - 99 1            \n",
       "6 6   6    0   1   male   65-     25 - 29 0            "
      ]
     },
     "metadata": {},
     "output_type": "display_data"
    }
   ],
   "source": [
    "data2 <- data1 %>%\n",
    "mutate(Health_status = ifelse(FKG == 0 & DKG ==0, '1', '0'))\n",
    "head(data2)\n",
    "  "
   ]
  },
  {
   "cell_type": "markdown",
   "metadata": {},
   "source": [
    "In the next datacamp course you will learn more about the package `dplyr`. For now we just give you some code. You can run the following script.\n",
    "\n",
    "First, we want to make \"Health_status\" a factor instead of a character"
   ]
  },
  {
   "cell_type": "code",
   "execution_count": 11,
   "metadata": {},
   "outputs": [
    {
     "name": "stdout",
     "output_type": "stream",
     "text": [
      "'data.frame':\t10000 obs. of  8 variables:\n",
      " $ ID           : int  1 2 3 4 5 6 7 8 9 10 ...\n",
      " $ Group        : int  2 2 27 33 20 6 36 26 6 26 ...\n",
      " $ FKG          : int  0 0 1 0 0 0 1 1 1 0 ...\n",
      " $ DKG          : int  1 1 0 0 0 1 0 1 0 0 ...\n",
      " $ Gender       : Factor w/ 2 levels \"female\",\"male\": 2 2 1 1 2 2 1 1 2 1 ...\n",
      " $ Elderly      : Factor w/ 2 levels \"65+\",\"65-\": 2 2 2 2 1 2 1 2 2 2 ...\n",
      " $ Age          : Factor w/ 20 levels \"0 - 4\",\"10 - 14\",..: 10 10 6 13 20 5 16 5 5 5 ...\n",
      " $ Health_status: num  0 0 0 1 1 0 0 0 0 1 ...\n"
     ]
    }
   ],
   "source": [
    "data2 <- data2 %>%\n",
    "  mutate(Health_status = as.numeric(Health_status))\n",
    "str(data2)"
   ]
  },
  {
   "cell_type": "markdown",
   "metadata": {},
   "source": [
    "Then, we want to count the number of healthy and unhealthy males and females"
   ]
  },
  {
   "cell_type": "code",
   "execution_count": 12,
   "metadata": {},
   "outputs": [
    {
     "data": {
      "text/html": [
       "<table>\n",
       "<thead><tr><th scope=col>Gender</th><th scope=col>Health_status</th><th scope=col>Count_observations</th></tr></thead>\n",
       "<tbody>\n",
       "\t<tr><td>female</td><td>0     </td><td>3677  </td></tr>\n",
       "\t<tr><td>female</td><td>1     </td><td>1269  </td></tr>\n",
       "\t<tr><td>male  </td><td>0     </td><td>3776  </td></tr>\n",
       "\t<tr><td>male  </td><td>1     </td><td>1278  </td></tr>\n",
       "</tbody>\n",
       "</table>\n"
      ],
      "text/latex": [
       "\\begin{tabular}{r|lll}\n",
       " Gender & Health\\_status & Count\\_observations\\\\\n",
       "\\hline\n",
       "\t female & 0      & 3677  \\\\\n",
       "\t female & 1      & 1269  \\\\\n",
       "\t male   & 0      & 3776  \\\\\n",
       "\t male   & 1      & 1278  \\\\\n",
       "\\end{tabular}\n"
      ],
      "text/markdown": [
       "\n",
       "Gender | Health_status | Count_observations | \n",
       "|---|---|---|---|\n",
       "| female | 0      | 3677   | \n",
       "| female | 1      | 1269   | \n",
       "| male   | 0      | 3776   | \n",
       "| male   | 1      | 1278   | \n",
       "\n",
       "\n"
      ],
      "text/plain": [
       "  Gender Health_status Count_observations\n",
       "1 female 0             3677              \n",
       "2 female 1             1269              \n",
       "3 male   0             3776              \n",
       "4 male   1             1278              "
      ]
     },
     "metadata": {},
     "output_type": "display_data"
    }
   ],
   "source": [
    "data3 <- data2 %>%\n",
    "  group_by(Gender, Health_status) %>%\n",
    " summarise(Count_observations = n()) %>%\n",
    "  mutate(Health_status=as.factor(Health_status))\n",
    "\n",
    "data3"
   ]
  },
  {
   "cell_type": "markdown",
   "metadata": {},
   "source": [
    "## Assignment 2\n",
    "\n",
    "Recreate with the dataframe \"data3\" the following barchart ![](../Sourcedata/barchart.png)\n",
    "\n",
    "* Hint: see for changing the [legends and colors](http://www.cookbook-r.com/Graphs/Legends_(ggplot2)/)\n",
    "* Hint: the \"green\" color is in fact the color \"greenyellow\"\n",
    "* Hint: see for the [themes](http://ggplot2.tidyverse.org/reference/ggtheme.html): \n",
    "\n"
   ]
  },
  {
   "cell_type": "code",
   "execution_count": 13,
   "metadata": {},
   "outputs": [
    {
     "data": {},
     "metadata": {},
     "output_type": "display_data"
    },
    {
     "ename": "ERROR",
     "evalue": "Error: Don't know how to add RHS to a theme object\n",
     "output_type": "error",
     "traceback": [
      "Error: Don't know how to add RHS to a theme object\nTraceback:\n",
      "1. `+.gg`(theme_classic(base_size = 13), scale_fill_manual(values = c(\"red\", \n .     \"greenyellow\"), name = \"Health Status\", labels = c(\"Healthy\", \n .     \"Unhealthy\")))",
      "2. add_theme(e1, e2, e2name)",
      "3. stop(\"Don't know how to add RHS to a theme object\", call. = FALSE)"
     ]
    },
    {
     "data": {
      "image/png": "[encoded data removed]",
      "text/plain": [
       "plot without title"
      ]
     },
     "metadata": {},
     "output_type": "display_data"
    }
   ],
   "source": [
    "ggplot(data=data3, aes(x=Gender, y = Count_observations, fill = Health_status)) + \n",
    "        geom_col(position = \"dodge\") + \n",
    "        labs (x = \"Gender\", y = \"Number\")\n",
    "        theme_classic(base_size = 13) + \n",
    "        scale_fill_manual(values = c(\"red\", \"greenyellow\"), name = \"Health Status\", labels = c(\"Healthy\", \"Unhealthy\"))"
   ]
  },
  {
   "cell_type": "markdown",
   "metadata": {},
   "source": [
    "End notebook"
   ]
  }
 ],
 "metadata": {
  "anaconda-cloud": {},
  "kernelspec": {
   "display_name": "R",
   "language": "R",
   "name": "ir"
  },
  "language_info": {
   "codemirror_mode": "r",
   "file_extension": ".r",
   "mimetype": "text/x-r-source",
   "name": "R",
   "pygments_lexer": "r",
   "version": "3.3.3"
  }
 },
 "nbformat": 4,
 "nbformat_minor": 1
}
